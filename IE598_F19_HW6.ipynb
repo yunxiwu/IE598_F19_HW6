{
 "cells": [
  {
   "cell_type": "code",
   "execution_count": 17,
   "metadata": {},
   "outputs": [
    {
     "name": "stdout",
     "output_type": "stream",
     "text": [
      "   ID  LIMIT_BAL  SEX  EDUCATION  MARRIAGE  AGE  PAY_0  PAY_2  PAY_3  PAY_4  \\\n",
      "0   1      20000    2          2         1   24      2      2     -1     -1   \n",
      "1   2     120000    2          2         2   26     -1      2      0      0   \n",
      "2   3      90000    2          2         2   34      0      0      0      0   \n",
      "3   4      50000    2          2         1   37      0      0      0      0   \n",
      "4   5      50000    1          2         1   57     -1      0     -1      0   \n",
      "\n",
      "    ...     BILL_AMT4  BILL_AMT5  BILL_AMT6  PAY_AMT1  PAY_AMT2  PAY_AMT3  \\\n",
      "0   ...             0          0          0         0       689         0   \n",
      "1   ...          3272       3455       3261         0      1000      1000   \n",
      "2   ...         14331      14948      15549      1518      1500      1000   \n",
      "3   ...         28314      28959      29547      2000      2019      1200   \n",
      "4   ...         20940      19146      19131      2000     36681     10000   \n",
      "\n",
      "   PAY_AMT4  PAY_AMT5  PAY_AMT6  DEFAULT  \n",
      "0         0         0         0        1  \n",
      "1      1000         0      2000        1  \n",
      "2      1000      1000      5000        0  \n",
      "3      1100      1069      1000        0  \n",
      "4      9000       689       679        0  \n",
      "\n",
      "[5 rows x 25 columns]\n",
      "(30000, 22) (30000,)\n"
     ]
    }
   ],
   "source": [
    "import pandas as pd\n",
    "import numpy as np\n",
    "import matplotlib.pyplot as plt\n",
    "from sklearn.model_selection import train_test_split\n",
    "from sklearn.metrics import accuracy_score\n",
    "from sklearn import preprocessing\n",
    "from sklearn import tree\n",
    "from sklearn.tree import DecisionTreeClassifier\n",
    "import timeit\n",
    "from sklearn.model_selection import cross_val_score\n",
    "\n",
    "ccdefault=pd.read_csv('C:\\\\Users\\\\Wincy\\\\Desktop\\\\ccdefault.csv')\n",
    "print(ccdefault.head())\n",
    "\n",
    "y = ccdefault.iloc[:, -1]\n",
    "X = ccdefault.iloc[:,1:-2]\n",
    "print(X.shape,y.shape)"
   ]
  },
  {
   "cell_type": "code",
   "execution_count": 15,
   "metadata": {},
   "outputs": [
    {
     "name": "stdout",
     "output_type": "stream",
     "text": [
      "              1      2         3         4         5         6         7  \\\n",
      "Train  0.821524  0.825  0.822714  0.820143  0.825238  0.823857  0.825905   \n",
      "Test   0.825667  0.819  0.823111  0.829000  0.816222  0.818000  0.817333   \n",
      "\n",
      "              8         9        10      Mean  Standard Deviation  \n",
      "Train  0.823810  0.822714  0.823619  0.823452            0.001586  \n",
      "Test   0.821444  0.824556  0.818556  0.821289            0.003784  \n",
      "run time: 1.0548328000004403\n"
     ]
    }
   ],
   "source": [
    "#Part 1: Random test train splits\n",
    "random_state_range=range(10)\n",
    "train_accuracy=[]\n",
    "test_accuracy=[]\n",
    "start = timeit.default_timer()\n",
    "for k in random_state_range:\n",
    "    X_train, X_test, y_train, y_test = train_test_split(X, y,test_size=0.30, random_state=k)\n",
    "    tree = DecisionTreeClassifier(criterion='gini',max_depth=4)\n",
    "    tree.fit(X_train, y_train)\n",
    "    # tree.plot_tree(tree)\n",
    "    y_pred_train=tree.predict(X_train)\n",
    "    y_pred_test=tree.predict(X_test)\n",
    "    acc_train=accuracy_score(y_train,y_pred_train)\n",
    "    acc_test=accuracy_score(y_test,y_pred_test)\n",
    "    train_accuracy.append(acc_train)\n",
    "    test_accuracy.append(acc_test)\n",
    "end = timeit.default_timer()\n",
    "\n",
    "table_train=train_accuracy\n",
    "table_test=test_accuracy\n",
    "table_train.append(np.mean(train_accuracy))\n",
    "table_train.append(np.std(train_accuracy))\n",
    "table_test.append(np.mean(test_accuracy))\n",
    "table_test.append(np.std(test_accuracy))\n",
    "\n",
    "table = pd.DataFrame(np.array([table_train,table_test]),columns = ['1','2','3','4','5','6','7','8','9','10','Mean','Standard Deviation'])\n",
    "table.rename(index={0:'Train',1:'Test'}, inplace=True)\n",
    "time = end-start\n",
    "print(table)\n",
    "print('run time:',time)"
   ]
  },
  {
   "cell_type": "code",
   "execution_count": 25,
   "metadata": {},
   "outputs": [
    {
     "name": "stdout",
     "output_type": "stream",
     "text": [
      "              1         2         3         4         5         6         7  \\\n",
      "Train  0.724417  0.717619  0.732857  0.715238  0.726190  0.700000  0.744286   \n",
      "Test   0.726970  0.721421  0.715871  0.756667  0.726667  0.708889  0.724444   \n",
      "\n",
      "              8         9        10      Mean  Standard Deviation  \n",
      "Train  0.732857  0.717619  0.705098  0.721618            0.012681  \n",
      "Test   0.705228  0.703003  0.740823  0.722998            0.015654  \n",
      "run time: 12.591381100006402\n"
     ]
    }
   ],
   "source": [
    "#Part 2: Cross validation\n",
    "start_cv = timeit.default_timer()\n",
    "tree = DecisionTreeClassifier()\n",
    "tree.fit(X_train, y_train)\n",
    "#cross_pred_test=tree.predict(X_test)\n",
    "#cross_pred_train=tree.predict(X_train)\n",
    "train_accuracy= cross_val_score(tree,X=X_train,y=y_train,cv=10)\n",
    "test_accuracy= cross_val_score(tree,X=X_test,y=y_test,cv=10)\n",
    "end_cv = timeit.default_timer()\n",
    "\n",
    "table_train=list(train_accuracy)\n",
    "table_test=list(test_accuracy)\n",
    "table_train.append(np.mean(train_accuracy))\n",
    "table_train.append(np.std(train_accuracy))\n",
    "table_test.append(np.mean(test_accuracy))\n",
    "table_test.append(np.std(test_accuracy))\n",
    "\n",
    "table = pd.DataFrame(np.array([table_train,table_test]),columns = ['1','2','3','4','5','6','7','8','9','10','Mean','Standard Deviation'])\n",
    "table.rename(index={0:'Train',1:'Test'}, inplace=True)\n",
    "time = end_cv-start_cv\n",
    "print(table)\n",
    "print('run time:',time)"
   ]
  },
  {
   "cell_type": "code",
   "execution_count": 26,
   "metadata": {},
   "outputs": [
    {
     "name": "stdout",
     "output_type": "stream",
     "text": [
      "My name is Yunxi Wu\n",
      "My NetID is yunxiw2\n",
      "I hereby certify that I have read the University policy on Academic Integrity and that I am not in violation.\n"
     ]
    }
   ],
   "source": [
    "print('My name is Yunxi Wu')\n",
    "print('My NetID is yunxiw2')\n",
    "print('I hereby certify that I have read the University policy on Academic Integrity and that I am not in violation.')"
   ]
  }
 ],
 "metadata": {
  "kernelspec": {
   "display_name": "Python 3",
   "language": "python",
   "name": "python3"
  },
  "language_info": {
   "codemirror_mode": {
    "name": "ipython",
    "version": 3
   },
   "file_extension": ".py",
   "mimetype": "text/x-python",
   "name": "python",
   "nbconvert_exporter": "python",
   "pygments_lexer": "ipython3",
   "version": "3.7.1"
  }
 },
 "nbformat": 4,
 "nbformat_minor": 2
}
